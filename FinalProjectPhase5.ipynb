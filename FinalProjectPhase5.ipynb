{
 "cells": [
  {
   "cell_type": "markdown",
   "id": "b3d0ce7b",
   "metadata": {},
   "source": [
    "# Phase 2: Exploratory Data Analysis (IMDb Movie Ratings)\n",
    "This notebook explores the IMDb dataset for initial insights into movie ratings."
   ]
  },
  {
   "cell_type": "code",
   "execution_count": 3,
   "id": "83439ac6",
   "metadata": {},
   "outputs": [],
   "source": [
    "# Import necessary libraries\n",
    "import pandas as pd"
   ]
  },
  {
   "cell_type": "code",
   "execution_count": 4,
   "id": "7a532c6c",
   "metadata": {},
   "outputs": [],
   "source": [
    "# Load the IMDb Ratings dataset\n",
    "url_ratings = \"https://datasets.imdbws.com/title.ratings.tsv.gz\"\n",
    "df_ratings = pd.read_csv(url_ratings, sep=\"\\t\")"
   ]
  },
  {
   "cell_type": "code",
   "execution_count": 5,
   "id": "6e2d1885",
   "metadata": {},
   "outputs": [],
   "source": [
    "# Load the IMDb Title Basics dataset for movie names\n",
    "url_titles = \"https://datasets.imdbws.com/title.basics.tsv.gz\"\n",
    "df_titles = pd.read_csv(\n",
    "    url_titles,\n",
    "    sep=\"\\t\",\n",
    "    usecols=[\"tconst\", \"primaryTitle\", \"titleType\"],\n",
    "    low_memory=False\n",
    ")"
   ]
  },
  {
   "cell_type": "code",
   "execution_count": 6,
   "id": "6898c86e",
   "metadata": {},
   "outputs": [],
   "source": [
    "# Filter for movies only\n",
    "df_titles = df_titles[df_titles[\"titleType\"] == \"movie\"]\n",
    "\n",
    "# Merge the two datasets on 'tconst' to include movie names\n",
    "df_merged = pd.merge(df_ratings, df_titles, on=\"tconst\")\n",
    "\n",
    "# Drop the 'titleType' column as it's not needed after filtering for movies\n",
    "df_merged.drop(columns=[\"titleType\"], inplace=True)"
   ]
  },
  {
   "cell_type": "code",
   "execution_count": 7,
   "id": "cd7371da",
   "metadata": {},
   "outputs": [
    {
     "data": {
      "text/html": [
       "<div>\n",
       "<style scoped>\n",
       "    .dataframe tbody tr th:only-of-type {\n",
       "        vertical-align: middle;\n",
       "    }\n",
       "\n",
       "    .dataframe tbody tr th {\n",
       "        vertical-align: top;\n",
       "    }\n",
       "\n",
       "    .dataframe thead th {\n",
       "        text-align: right;\n",
       "    }\n",
       "</style>\n",
       "<table border=\"1\" class=\"dataframe\">\n",
       "  <thead>\n",
       "    <tr style=\"text-align: right;\">\n",
       "      <th></th>\n",
       "      <th>tconst</th>\n",
       "      <th>averageRating</th>\n",
       "      <th>numVotes</th>\n",
       "      <th>primaryTitle</th>\n",
       "    </tr>\n",
       "  </thead>\n",
       "  <tbody>\n",
       "    <tr>\n",
       "      <th>0</th>\n",
       "      <td>tt0000009</td>\n",
       "      <td>5.4</td>\n",
       "      <td>215</td>\n",
       "      <td>Miss Jerry</td>\n",
       "    </tr>\n",
       "    <tr>\n",
       "      <th>1</th>\n",
       "      <td>tt0000147</td>\n",
       "      <td>5.2</td>\n",
       "      <td>541</td>\n",
       "      <td>The Corbett-Fitzsimmons Fight</td>\n",
       "    </tr>\n",
       "    <tr>\n",
       "      <th>2</th>\n",
       "      <td>tt0000502</td>\n",
       "      <td>4.4</td>\n",
       "      <td>18</td>\n",
       "      <td>Bohemios</td>\n",
       "    </tr>\n",
       "    <tr>\n",
       "      <th>3</th>\n",
       "      <td>tt0000574</td>\n",
       "      <td>6.0</td>\n",
       "      <td>945</td>\n",
       "      <td>The Story of the Kelly Gang</td>\n",
       "    </tr>\n",
       "    <tr>\n",
       "      <th>4</th>\n",
       "      <td>tt0000591</td>\n",
       "      <td>5.7</td>\n",
       "      <td>28</td>\n",
       "      <td>The Prodigal Son</td>\n",
       "    </tr>\n",
       "  </tbody>\n",
       "</table>\n",
       "</div>"
      ],
      "text/plain": [
       "      tconst  averageRating  numVotes                   primaryTitle\n",
       "0  tt0000009            5.4       215                     Miss Jerry\n",
       "1  tt0000147            5.2       541  The Corbett-Fitzsimmons Fight\n",
       "2  tt0000502            4.4        18                       Bohemios\n",
       "3  tt0000574            6.0       945    The Story of the Kelly Gang\n",
       "4  tt0000591            5.7        28               The Prodigal Son"
      ]
     },
     "execution_count": 7,
     "metadata": {},
     "output_type": "execute_result"
    }
   ],
   "source": [
    "# Display the first few rows to ensure names are included\n",
    "df_merged.head()"
   ]
  },
  {
   "cell_type": "markdown",
   "id": "2d28e471",
   "metadata": {},
   "source": [
    "## Dataset Description\n",
    "The dataset includes the following columns:\n",
    "- `tconst`: Unique identifier for each movie.\n",
    "- `primaryTitle`: The name of the movie.\n",
    "- `averageRating`: The average IMDb rating for the movie.\n",
    "- `numVotes`: The number of votes the movie received.\n",
    "\n",
    "The dataset focuses exclusively on movies, filtered from the original IMDb datasets.\n"
   ]
  },
  {
   "cell_type": "code",
   "execution_count": 8,
   "id": "c4240568",
   "metadata": {},
   "outputs": [
    {
     "data": {
      "text/html": [
       "<div>\n",
       "<style scoped>\n",
       "    .dataframe tbody tr th:only-of-type {\n",
       "        vertical-align: middle;\n",
       "    }\n",
       "\n",
       "    .dataframe tbody tr th {\n",
       "        vertical-align: top;\n",
       "    }\n",
       "\n",
       "    .dataframe thead th {\n",
       "        text-align: right;\n",
       "    }\n",
       "</style>\n",
       "<table border=\"1\" class=\"dataframe\">\n",
       "  <thead>\n",
       "    <tr style=\"text-align: right;\">\n",
       "      <th></th>\n",
       "      <th>averageRating</th>\n",
       "      <th>numVotes</th>\n",
       "    </tr>\n",
       "  </thead>\n",
       "  <tbody>\n",
       "    <tr>\n",
       "      <th>count</th>\n",
       "      <td>321462.000000</td>\n",
       "      <td>3.214620e+05</td>\n",
       "    </tr>\n",
       "    <tr>\n",
       "      <th>mean</th>\n",
       "      <td>6.166111</td>\n",
       "      <td>3.623050e+03</td>\n",
       "    </tr>\n",
       "    <tr>\n",
       "      <th>std</th>\n",
       "      <td>1.382871</td>\n",
       "      <td>3.647059e+04</td>\n",
       "    </tr>\n",
       "    <tr>\n",
       "      <th>min</th>\n",
       "      <td>1.000000</td>\n",
       "      <td>5.000000e+00</td>\n",
       "    </tr>\n",
       "    <tr>\n",
       "      <th>25%</th>\n",
       "      <td>5.300000</td>\n",
       "      <td>1.900000e+01</td>\n",
       "    </tr>\n",
       "    <tr>\n",
       "      <th>50%</th>\n",
       "      <td>6.300000</td>\n",
       "      <td>6.100000e+01</td>\n",
       "    </tr>\n",
       "    <tr>\n",
       "      <th>75%</th>\n",
       "      <td>7.100000</td>\n",
       "      <td>3.130000e+02</td>\n",
       "    </tr>\n",
       "    <tr>\n",
       "      <th>max</th>\n",
       "      <td>10.000000</td>\n",
       "      <td>2.971050e+06</td>\n",
       "    </tr>\n",
       "  </tbody>\n",
       "</table>\n",
       "</div>"
      ],
      "text/plain": [
       "       averageRating      numVotes\n",
       "count  321462.000000  3.214620e+05\n",
       "mean        6.166111  3.623050e+03\n",
       "std         1.382871  3.647059e+04\n",
       "min         1.000000  5.000000e+00\n",
       "25%         5.300000  1.900000e+01\n",
       "50%         6.300000  6.100000e+01\n",
       "75%         7.100000  3.130000e+02\n",
       "max        10.000000  2.971050e+06"
      ]
     },
     "execution_count": 8,
     "metadata": {},
     "output_type": "execute_result"
    }
   ],
   "source": [
    "# Provides statistical summary for numeric columns\n",
    "df_merged.describe()"
   ]
  },
  {
   "cell_type": "code",
   "execution_count": 9,
   "id": "6aa19dfa",
   "metadata": {},
   "outputs": [
    {
     "data": {
      "text/plain": [
       "Index(['tconst', 'averageRating', 'numVotes', 'primaryTitle'], dtype='object')"
      ]
     },
     "execution_count": 9,
     "metadata": {},
     "output_type": "execute_result"
    }
   ],
   "source": [
    "# Lists all column names in the dataset\n",
    "df_merged.columns"
   ]
  },
  {
   "cell_type": "code",
   "execution_count": 10,
   "id": "23e72cdd",
   "metadata": {},
   "outputs": [
    {
     "data": {
      "text/plain": [
       "(321462, 4)"
      ]
     },
     "execution_count": 10,
     "metadata": {},
     "output_type": "execute_result"
    }
   ],
   "source": [
    "# Displays the number of rows (movies) and columns (features)\n",
    "df_merged.shape"
   ]
  },
  {
   "cell_type": "code",
   "execution_count": 11,
   "id": "56460fd9",
   "metadata": {},
   "outputs": [
    {
     "data": {
      "text/plain": [
       "tconst            object\n",
       "averageRating    float64\n",
       "numVotes           int64\n",
       "primaryTitle      object\n",
       "dtype: object"
      ]
     },
     "execution_count": 11,
     "metadata": {},
     "output_type": "execute_result"
    }
   ],
   "source": [
    "# Shows the data types for each column\n",
    "df_merged.dtypes"
   ]
  },
  {
   "cell_type": "code",
   "execution_count": 12,
   "id": "a979787b",
   "metadata": {},
   "outputs": [
    {
     "data": {
      "text/html": [
       "<div>\n",
       "<style scoped>\n",
       "    .dataframe tbody tr th:only-of-type {\n",
       "        vertical-align: middle;\n",
       "    }\n",
       "\n",
       "    .dataframe tbody tr th {\n",
       "        vertical-align: top;\n",
       "    }\n",
       "\n",
       "    .dataframe thead th {\n",
       "        text-align: right;\n",
       "    }\n",
       "</style>\n",
       "<table border=\"1\" class=\"dataframe\">\n",
       "  <thead>\n",
       "    <tr style=\"text-align: right;\">\n",
       "      <th></th>\n",
       "      <th>tconst</th>\n",
       "      <th>averageRating</th>\n",
       "      <th>numVotes</th>\n",
       "      <th>primaryTitle</th>\n",
       "    </tr>\n",
       "  </thead>\n",
       "  <tbody>\n",
       "    <tr>\n",
       "      <th>0</th>\n",
       "      <td>tt0000009</td>\n",
       "      <td>5.4</td>\n",
       "      <td>215</td>\n",
       "      <td>Miss Jerry</td>\n",
       "    </tr>\n",
       "    <tr>\n",
       "      <th>1</th>\n",
       "      <td>tt0000147</td>\n",
       "      <td>5.2</td>\n",
       "      <td>541</td>\n",
       "      <td>The Corbett-Fitzsimmons Fight</td>\n",
       "    </tr>\n",
       "    <tr>\n",
       "      <th>2</th>\n",
       "      <td>tt0000502</td>\n",
       "      <td>4.4</td>\n",
       "      <td>18</td>\n",
       "      <td>Bohemios</td>\n",
       "    </tr>\n",
       "    <tr>\n",
       "      <th>3</th>\n",
       "      <td>tt0000574</td>\n",
       "      <td>6.0</td>\n",
       "      <td>945</td>\n",
       "      <td>The Story of the Kelly Gang</td>\n",
       "    </tr>\n",
       "    <tr>\n",
       "      <th>4</th>\n",
       "      <td>tt0000591</td>\n",
       "      <td>5.7</td>\n",
       "      <td>28</td>\n",
       "      <td>The Prodigal Son</td>\n",
       "    </tr>\n",
       "  </tbody>\n",
       "</table>\n",
       "</div>"
      ],
      "text/plain": [
       "      tconst  averageRating  numVotes                   primaryTitle\n",
       "0  tt0000009            5.4       215                     Miss Jerry\n",
       "1  tt0000147            5.2       541  The Corbett-Fitzsimmons Fight\n",
       "2  tt0000502            4.4        18                       Bohemios\n",
       "3  tt0000574            6.0       945    The Story of the Kelly Gang\n",
       "4  tt0000591            5.7        28               The Prodigal Son"
      ]
     },
     "execution_count": 12,
     "metadata": {},
     "output_type": "execute_result"
    }
   ],
   "source": [
    "# Displays the first 5 rows\n",
    "df_merged.head()"
   ]
  },
  {
   "cell_type": "code",
   "execution_count": 13,
   "id": "e24b56e1",
   "metadata": {},
   "outputs": [
    {
     "data": {
      "text/html": [
       "<div>\n",
       "<style scoped>\n",
       "    .dataframe tbody tr th:only-of-type {\n",
       "        vertical-align: middle;\n",
       "    }\n",
       "\n",
       "    .dataframe tbody tr th {\n",
       "        vertical-align: top;\n",
       "    }\n",
       "\n",
       "    .dataframe thead th {\n",
       "        text-align: right;\n",
       "    }\n",
       "</style>\n",
       "<table border=\"1\" class=\"dataframe\">\n",
       "  <thead>\n",
       "    <tr style=\"text-align: right;\">\n",
       "      <th></th>\n",
       "      <th>tconst</th>\n",
       "      <th>averageRating</th>\n",
       "      <th>numVotes</th>\n",
       "      <th>primaryTitle</th>\n",
       "    </tr>\n",
       "  </thead>\n",
       "  <tbody>\n",
       "    <tr>\n",
       "      <th>321457</th>\n",
       "      <td>tt9916362</td>\n",
       "      <td>6.4</td>\n",
       "      <td>5948</td>\n",
       "      <td>Coven</td>\n",
       "    </tr>\n",
       "    <tr>\n",
       "      <th>321458</th>\n",
       "      <td>tt9916428</td>\n",
       "      <td>3.6</td>\n",
       "      <td>19</td>\n",
       "      <td>The Secret of China</td>\n",
       "    </tr>\n",
       "    <tr>\n",
       "      <th>321459</th>\n",
       "      <td>tt9916538</td>\n",
       "      <td>8.3</td>\n",
       "      <td>9</td>\n",
       "      <td>Kuambil Lagi Hatiku</td>\n",
       "    </tr>\n",
       "    <tr>\n",
       "      <th>321460</th>\n",
       "      <td>tt9916706</td>\n",
       "      <td>7.7</td>\n",
       "      <td>9</td>\n",
       "      <td>Dankyavar Danka</td>\n",
       "    </tr>\n",
       "    <tr>\n",
       "      <th>321461</th>\n",
       "      <td>tt9916730</td>\n",
       "      <td>7.0</td>\n",
       "      <td>12</td>\n",
       "      <td>6 Gunn</td>\n",
       "    </tr>\n",
       "  </tbody>\n",
       "</table>\n",
       "</div>"
      ],
      "text/plain": [
       "           tconst  averageRating  numVotes         primaryTitle\n",
       "321457  tt9916362            6.4      5948                Coven\n",
       "321458  tt9916428            3.6        19  The Secret of China\n",
       "321459  tt9916538            8.3         9  Kuambil Lagi Hatiku\n",
       "321460  tt9916706            7.7         9      Dankyavar Danka\n",
       "321461  tt9916730            7.0        12               6 Gunn"
      ]
     },
     "execution_count": 13,
     "metadata": {},
     "output_type": "execute_result"
    }
   ],
   "source": [
    "# Displays the last 5 rows\n",
    "df_merged.tail()"
   ]
  },
  {
   "cell_type": "code",
   "execution_count": 14,
   "id": "94ddb8cc",
   "metadata": {},
   "outputs": [
    {
     "data": {
      "text/html": [
       "<div>\n",
       "<style scoped>\n",
       "    .dataframe tbody tr th:only-of-type {\n",
       "        vertical-align: middle;\n",
       "    }\n",
       "\n",
       "    .dataframe tbody tr th {\n",
       "        vertical-align: top;\n",
       "    }\n",
       "\n",
       "    .dataframe thead th {\n",
       "        text-align: right;\n",
       "    }\n",
       "</style>\n",
       "<table border=\"1\" class=\"dataframe\">\n",
       "  <thead>\n",
       "    <tr style=\"text-align: right;\">\n",
       "      <th></th>\n",
       "      <th>tconst</th>\n",
       "      <th>averageRating</th>\n",
       "      <th>numVotes</th>\n",
       "      <th>primaryTitle</th>\n",
       "    </tr>\n",
       "  </thead>\n",
       "  <tbody>\n",
       "    <tr>\n",
       "      <th>271106</th>\n",
       "      <td>tt4114630</td>\n",
       "      <td>4.4</td>\n",
       "      <td>245</td>\n",
       "      <td>Crow</td>\n",
       "    </tr>\n",
       "    <tr>\n",
       "      <th>208144</th>\n",
       "      <td>tt1785394</td>\n",
       "      <td>7.3</td>\n",
       "      <td>3349</td>\n",
       "      <td>Bleach the Movie: Hell Verse</td>\n",
       "    </tr>\n",
       "    <tr>\n",
       "      <th>134356</th>\n",
       "      <td>tt0425985</td>\n",
       "      <td>6.6</td>\n",
       "      <td>2527</td>\n",
       "      <td>The Chinese Botanist's Daughters</td>\n",
       "    </tr>\n",
       "    <tr>\n",
       "      <th>4913</th>\n",
       "      <td>tt0020924</td>\n",
       "      <td>5.8</td>\n",
       "      <td>218</td>\n",
       "      <td>Going Wild</td>\n",
       "    </tr>\n",
       "    <tr>\n",
       "      <th>22061</th>\n",
       "      <td>tt0046725</td>\n",
       "      <td>3.3</td>\n",
       "      <td>17</td>\n",
       "      <td>Assi alla ribalta</td>\n",
       "    </tr>\n",
       "  </tbody>\n",
       "</table>\n",
       "</div>"
      ],
      "text/plain": [
       "           tconst  averageRating  numVotes                      primaryTitle\n",
       "271106  tt4114630            4.4       245                              Crow\n",
       "208144  tt1785394            7.3      3349      Bleach the Movie: Hell Verse\n",
       "134356  tt0425985            6.6      2527  The Chinese Botanist's Daughters\n",
       "4913    tt0020924            5.8       218                        Going Wild\n",
       "22061   tt0046725            3.3        17                 Assi alla ribalta"
      ]
     },
     "execution_count": 14,
     "metadata": {},
     "output_type": "execute_result"
    }
   ],
   "source": [
    "# Displays a random sample of 5 rows\n",
    "df_merged.sample(5)"
   ]
  },
  {
   "cell_type": "code",
   "execution_count": 15,
   "id": "d7674e2f",
   "metadata": {},
   "outputs": [
    {
     "name": "stdout",
     "output_type": "stream",
     "text": [
      "<class 'pandas.core.frame.DataFrame'>\n",
      "Int64Index: 321462 entries, 0 to 321461\n",
      "Data columns (total 4 columns):\n",
      " #   Column         Non-Null Count   Dtype  \n",
      "---  ------         --------------   -----  \n",
      " 0   tconst         321462 non-null  object \n",
      " 1   averageRating  321462 non-null  float64\n",
      " 2   numVotes       321462 non-null  int64  \n",
      " 3   primaryTitle   321462 non-null  object \n",
      "dtypes: float64(1), int64(1), object(2)\n",
      "memory usage: 12.3+ MB\n"
     ]
    }
   ],
   "source": [
    "# Provides a summary of the DataFrame\n",
    "df_merged.info()"
   ]
  },
  {
   "cell_type": "markdown",
   "id": "fc8154c1",
   "metadata": {},
   "source": [
    "# Phase 3: Data Cleaning"
   ]
  },
  {
   "cell_type": "code",
   "execution_count": 16,
   "id": "d5851969",
   "metadata": {},
   "outputs": [
    {
     "data": {
      "text/plain": [
       "tconst           0\n",
       "averageRating    0\n",
       "numVotes         0\n",
       "primaryTitle     0\n",
       "dtype: int64"
      ]
     },
     "execution_count": 16,
     "metadata": {},
     "output_type": "execute_result"
    }
   ],
   "source": [
    "# Check for missing values\n",
    "df_merged.isna().sum()"
   ]
  },
  {
   "cell_type": "code",
   "execution_count": 17,
   "id": "7d72eeed",
   "metadata": {},
   "outputs": [
    {
     "data": {
      "text/html": [
       "<div>\n",
       "<style scoped>\n",
       "    .dataframe tbody tr th:only-of-type {\n",
       "        vertical-align: middle;\n",
       "    }\n",
       "\n",
       "    .dataframe tbody tr th {\n",
       "        vertical-align: top;\n",
       "    }\n",
       "\n",
       "    .dataframe thead th {\n",
       "        text-align: right;\n",
       "    }\n",
       "</style>\n",
       "<table border=\"1\" class=\"dataframe\">\n",
       "  <thead>\n",
       "    <tr style=\"text-align: right;\">\n",
       "      <th></th>\n",
       "      <th>averageRating</th>\n",
       "      <th>numVotes</th>\n",
       "    </tr>\n",
       "  </thead>\n",
       "  <tbody>\n",
       "    <tr>\n",
       "      <th>count</th>\n",
       "      <td>321462.000000</td>\n",
       "      <td>3.214620e+05</td>\n",
       "    </tr>\n",
       "    <tr>\n",
       "      <th>mean</th>\n",
       "      <td>6.166111</td>\n",
       "      <td>3.623050e+03</td>\n",
       "    </tr>\n",
       "    <tr>\n",
       "      <th>std</th>\n",
       "      <td>1.382871</td>\n",
       "      <td>3.647059e+04</td>\n",
       "    </tr>\n",
       "    <tr>\n",
       "      <th>min</th>\n",
       "      <td>1.000000</td>\n",
       "      <td>5.000000e+00</td>\n",
       "    </tr>\n",
       "    <tr>\n",
       "      <th>25%</th>\n",
       "      <td>5.300000</td>\n",
       "      <td>1.900000e+01</td>\n",
       "    </tr>\n",
       "    <tr>\n",
       "      <th>50%</th>\n",
       "      <td>6.300000</td>\n",
       "      <td>6.100000e+01</td>\n",
       "    </tr>\n",
       "    <tr>\n",
       "      <th>75%</th>\n",
       "      <td>7.100000</td>\n",
       "      <td>3.130000e+02</td>\n",
       "    </tr>\n",
       "    <tr>\n",
       "      <th>max</th>\n",
       "      <td>10.000000</td>\n",
       "      <td>2.971050e+06</td>\n",
       "    </tr>\n",
       "  </tbody>\n",
       "</table>\n",
       "</div>"
      ],
      "text/plain": [
       "       averageRating      numVotes\n",
       "count  321462.000000  3.214620e+05\n",
       "mean        6.166111  3.623050e+03\n",
       "std         1.382871  3.647059e+04\n",
       "min         1.000000  5.000000e+00\n",
       "25%         5.300000  1.900000e+01\n",
       "50%         6.300000  6.100000e+01\n",
       "75%         7.100000  3.130000e+02\n",
       "max        10.000000  2.971050e+06"
      ]
     },
     "execution_count": 17,
     "metadata": {},
     "output_type": "execute_result"
    }
   ],
   "source": [
    "# Summary statistics for numeric columns\n",
    "df_merged[['averageRating', 'numVotes']].describe()"
   ]
  },
  {
   "cell_type": "code",
   "execution_count": 18,
   "id": "18bfc18e",
   "metadata": {},
   "outputs": [
    {
     "data": {
      "text/html": [
       "<div>\n",
       "<style scoped>\n",
       "    .dataframe tbody tr th:only-of-type {\n",
       "        vertical-align: middle;\n",
       "    }\n",
       "\n",
       "    .dataframe tbody tr th {\n",
       "        vertical-align: top;\n",
       "    }\n",
       "\n",
       "    .dataframe thead th {\n",
       "        text-align: right;\n",
       "    }\n",
       "</style>\n",
       "<table border=\"1\" class=\"dataframe\">\n",
       "  <thead>\n",
       "    <tr style=\"text-align: right;\">\n",
       "      <th></th>\n",
       "      <th>tconst</th>\n",
       "      <th>averageRating</th>\n",
       "      <th>numVotes</th>\n",
       "      <th>primaryTitle</th>\n",
       "    </tr>\n",
       "  </thead>\n",
       "  <tbody>\n",
       "    <tr>\n",
       "      <th>1842</th>\n",
       "      <td>tt0012349</td>\n",
       "      <td>8.2</td>\n",
       "      <td>138406</td>\n",
       "      <td>The Kid</td>\n",
       "    </tr>\n",
       "    <tr>\n",
       "      <th>2108</th>\n",
       "      <td>tt0013442</td>\n",
       "      <td>7.8</td>\n",
       "      <td>109514</td>\n",
       "      <td>Nosferatu: A Symphony of Horror</td>\n",
       "    </tr>\n",
       "    <tr>\n",
       "      <th>2849</th>\n",
       "      <td>tt0015864</td>\n",
       "      <td>8.1</td>\n",
       "      <td>121168</td>\n",
       "      <td>The Gold Rush</td>\n",
       "    </tr>\n",
       "    <tr>\n",
       "      <th>3297</th>\n",
       "      <td>tt0017136</td>\n",
       "      <td>8.3</td>\n",
       "      <td>190687</td>\n",
       "      <td>Metropolis</td>\n",
       "    </tr>\n",
       "    <tr>\n",
       "      <th>3585</th>\n",
       "      <td>tt0017925</td>\n",
       "      <td>8.1</td>\n",
       "      <td>100488</td>\n",
       "      <td>The General</td>\n",
       "    </tr>\n",
       "    <tr>\n",
       "      <th>...</th>\n",
       "      <td>...</td>\n",
       "      <td>...</td>\n",
       "      <td>...</td>\n",
       "      <td>...</td>\n",
       "    </tr>\n",
       "    <tr>\n",
       "      <th>320640</th>\n",
       "      <td>tt9770150</td>\n",
       "      <td>7.3</td>\n",
       "      <td>188761</td>\n",
       "      <td>Nomadland</td>\n",
       "    </tr>\n",
       "    <tr>\n",
       "      <th>320670</th>\n",
       "      <td>tt9777666</td>\n",
       "      <td>6.6</td>\n",
       "      <td>235312</td>\n",
       "      <td>The Tomorrow War</td>\n",
       "    </tr>\n",
       "    <tr>\n",
       "      <th>320724</th>\n",
       "      <td>tt9784798</td>\n",
       "      <td>7.4</td>\n",
       "      <td>93381</td>\n",
       "      <td>Judas and the Black Messiah</td>\n",
       "    </tr>\n",
       "    <tr>\n",
       "      <th>321173</th>\n",
       "      <td>tt9866072</td>\n",
       "      <td>6.2</td>\n",
       "      <td>81449</td>\n",
       "      <td>Holidate</td>\n",
       "    </tr>\n",
       "    <tr>\n",
       "      <th>321342</th>\n",
       "      <td>tt9893250</td>\n",
       "      <td>6.4</td>\n",
       "      <td>150539</td>\n",
       "      <td>I Care a Lot</td>\n",
       "    </tr>\n",
       "  </tbody>\n",
       "</table>\n",
       "<p>3215 rows × 4 columns</p>\n",
       "</div>"
      ],
      "text/plain": [
       "           tconst  averageRating  numVotes                     primaryTitle\n",
       "1842    tt0012349            8.2    138406                          The Kid\n",
       "2108    tt0013442            7.8    109514  Nosferatu: A Symphony of Horror\n",
       "2849    tt0015864            8.1    121168                    The Gold Rush\n",
       "3297    tt0017136            8.3    190687                       Metropolis\n",
       "3585    tt0017925            8.1    100488                      The General\n",
       "...           ...            ...       ...                              ...\n",
       "320640  tt9770150            7.3    188761                        Nomadland\n",
       "320670  tt9777666            6.6    235312                 The Tomorrow War\n",
       "320724  tt9784798            7.4     93381      Judas and the Black Messiah\n",
       "321173  tt9866072            6.2     81449                         Holidate\n",
       "321342  tt9893250            6.4    150539                     I Care a Lot\n",
       "\n",
       "[3215 rows x 4 columns]"
      ]
     },
     "execution_count": 18,
     "metadata": {},
     "output_type": "execute_result"
    }
   ],
   "source": [
    "# Identify potential outliers in numVotes\n",
    "df_merged[df_merged['numVotes'] > df_merged['numVotes'].quantile(0.99)]"
   ]
  },
  {
   "cell_type": "markdown",
   "id": "84ebd2b8",
   "metadata": {},
   "source": [
    "### Handling Outliers in `numVotes`\n",
    "After reviewing the data, we identified movies with `numVotes` in the top 1%. These represent popular and widely-reviewed movies, such as \"Metropolis\" and \"Nomadland.\" These outliers are valid and will remain in the dataset to preserve important trends in movie popularity."
   ]
  },
  {
   "cell_type": "code",
   "execution_count": 19,
   "id": "e709249c",
   "metadata": {},
   "outputs": [
    {
     "data": {
      "text/plain": [
       "Index(['tconst', 'averageRating', 'numVotes', 'primaryTitle'], dtype='object')"
      ]
     },
     "execution_count": 19,
     "metadata": {},
     "output_type": "execute_result"
    }
   ],
   "source": [
    "# Display current column names\n",
    "df_merged.columns"
   ]
  },
  {
   "cell_type": "code",
   "execution_count": 20,
   "id": "068e8d77",
   "metadata": {},
   "outputs": [
    {
     "data": {
      "text/plain": [
       "Index(['ID', 'Rating', 'Votes', 'Title'], dtype='object')"
      ]
     },
     "execution_count": 20,
     "metadata": {},
     "output_type": "execute_result"
    }
   ],
   "source": [
    "# Rename columns for clarity\n",
    "df_merged.rename(columns={\n",
    "    'tconst': 'ID',\n",
    "    'primaryTitle': 'Title',\n",
    "    'averageRating': 'Rating',\n",
    "    'numVotes': 'Votes'\n",
    "}, inplace=True)\n",
    "\n",
    "# Display the updated columns\n",
    "df_merged.columns"
   ]
  },
  {
   "cell_type": "markdown",
   "id": "60b1b231",
   "metadata": {},
   "source": [
    "### Simplifying Data\n",
    "The dataset was reviewed for unnecessary columns or opportunities to split data. All columns were deemed necessary for analysis, and no further simplification was required."
   ]
  },
  {
   "cell_type": "markdown",
   "id": "defd7385",
   "metadata": {},
   "source": [
    "## Data Cleaning Summary\n",
    "1. **Missing Values:** The dataset contained no missing values (`NaN`), so no further action was taken.\n",
    "2. **Outliers:** Outliers in `numVotes` were reviewed and deemed valid. These records were retained.\n",
    "3. **Column Renaming:** Columns were renamed for clarity:\n",
    "   - `tconst` → `ID`\n",
    "   - `primaryTitle` → `Title`\n",
    "   - `averageRating` → `Rating`\n",
    "   - `numVotes` → `Votes`\n",
    "4. **Simplification:** No unnecessary columns or splits were required, as all data was relevant."
   ]
  },
  {
   "cell_type": "markdown",
   "id": "f6bc203e",
   "metadata": {},
   "source": [
    "## Professor's Request :"
   ]
  },
  {
   "cell_type": "code",
   "execution_count": 21,
   "id": "8d0ef0f6",
   "metadata": {},
   "outputs": [
    {
     "data": {
      "image/png": "[encoded data removed]",
      "text/plain": [
       "<Figure size 360x288 with 2 Axes>"
      ]
     },
     "metadata": {
      "needs_background": "light"
     },
     "output_type": "display_data"
    }
   ],
   "source": [
    "import seaborn as sns\n",
    "import matplotlib.pyplot as plt\n",
    "\n",
    "# Compute correlation matrix\n",
    "correlation_matrix = df_merged[['Rating', 'Votes']].corr()\n",
    "\n",
    "# Create a heatmap\n",
    "plt.figure(figsize=(5, 4))\n",
    "sns.heatmap(correlation_matrix, annot=True, cmap=\"coolwarm\", fmt=\".2f\")\n",
    "plt.title(\"Correlation Heatmap\")\n",
    "plt.show()"
   ]
  },
  {
   "cell_type": "markdown",
   "id": "20ed78c4",
   "metadata": {},
   "source": [
    "### Correlation Analysis\n",
    "The correlation matrix was generated to investigate relationships between numeric variables (`Rating` and `Votes`). The results show a weak positive correlation (0.06) between these variables. This indicates that the number of votes does not strongly influence a movie's average rating."
   ]
  },
  {
   "cell_type": "code",
   "execution_count": 22,
   "id": "6599f2f3",
   "metadata": {},
   "outputs": [
    {
     "data": {
      "text/html": [
       "<div>\n",
       "<style scoped>\n",
       "    .dataframe tbody tr th:only-of-type {\n",
       "        vertical-align: middle;\n",
       "    }\n",
       "\n",
       "    .dataframe tbody tr th {\n",
       "        vertical-align: top;\n",
       "    }\n",
       "\n",
       "    .dataframe thead th {\n",
       "        text-align: right;\n",
       "    }\n",
       "</style>\n",
       "<table border=\"1\" class=\"dataframe\">\n",
       "  <thead>\n",
       "    <tr style=\"text-align: right;\">\n",
       "      <th></th>\n",
       "      <th>ID</th>\n",
       "      <th>Rating</th>\n",
       "      <th>Votes</th>\n",
       "      <th>Title</th>\n",
       "    </tr>\n",
       "  </thead>\n",
       "  <tbody>\n",
       "    <tr>\n",
       "      <th>0</th>\n",
       "      <td>tt0000009</td>\n",
       "      <td>5.4</td>\n",
       "      <td>215</td>\n",
       "      <td>Miss Jerry</td>\n",
       "    </tr>\n",
       "    <tr>\n",
       "      <th>1</th>\n",
       "      <td>tt0000147</td>\n",
       "      <td>5.2</td>\n",
       "      <td>541</td>\n",
       "      <td>The Corbett-Fitzsimmons Fight</td>\n",
       "    </tr>\n",
       "    <tr>\n",
       "      <th>2</th>\n",
       "      <td>tt0000502</td>\n",
       "      <td>4.4</td>\n",
       "      <td>18</td>\n",
       "      <td>Bohemios</td>\n",
       "    </tr>\n",
       "    <tr>\n",
       "      <th>3</th>\n",
       "      <td>tt0000574</td>\n",
       "      <td>6.0</td>\n",
       "      <td>945</td>\n",
       "      <td>The Story of the Kelly Gang</td>\n",
       "    </tr>\n",
       "    <tr>\n",
       "      <th>4</th>\n",
       "      <td>tt0000591</td>\n",
       "      <td>5.7</td>\n",
       "      <td>28</td>\n",
       "      <td>The Prodigal Son</td>\n",
       "    </tr>\n",
       "  </tbody>\n",
       "</table>\n",
       "</div>"
      ],
      "text/plain": [
       "          ID  Rating  Votes                          Title\n",
       "0  tt0000009     5.4    215                     Miss Jerry\n",
       "1  tt0000147     5.2    541  The Corbett-Fitzsimmons Fight\n",
       "2  tt0000502     4.4     18                       Bohemios\n",
       "3  tt0000574     6.0    945    The Story of the Kelly Gang\n",
       "4  tt0000591     5.7     28               The Prodigal Son"
      ]
     },
     "execution_count": 22,
     "metadata": {},
     "output_type": "execute_result"
    }
   ],
   "source": [
    "# Display the first few rows of the cleaned dataset\n",
    "df_merged.head()"
   ]
  },
  {
   "cell_type": "code",
   "execution_count": 23,
   "id": "844f545b",
   "metadata": {},
   "outputs": [],
   "source": [
    "# Save the cleaned dataset to a CSV file\n",
    "df_merged.to_csv(\"cleaned_imdb_data.csv\", index=False)"
   ]
  },
  {
   "cell_type": "markdown",
   "id": "a5a05a76",
   "metadata": {},
   "source": [
    "### Question 1: How Have Average Movie Ratings Changed Over the Years?\n",
    "To answer this question, we will:\n",
    "1. Extract the release year for each movie.\n",
    "2. Group the data by year and calculate the average IMDb rating.\n",
    "3. Visualize the trend using a line plot."
   ]
  },
  {
   "cell_type": "code",
   "execution_count": 24,
   "id": "2d75d89e",
   "metadata": {},
   "outputs": [
    {
     "data": {
      "text/html": [
       "<div>\n",
       "<style scoped>\n",
       "    .dataframe tbody tr th:only-of-type {\n",
       "        vertical-align: middle;\n",
       "    }\n",
       "\n",
       "    .dataframe tbody tr th {\n",
       "        vertical-align: top;\n",
       "    }\n",
       "\n",
       "    .dataframe thead th {\n",
       "        text-align: right;\n",
       "    }\n",
       "</style>\n",
       "<table border=\"1\" class=\"dataframe\">\n",
       "  <thead>\n",
       "    <tr style=\"text-align: right;\">\n",
       "      <th></th>\n",
       "      <th>ID</th>\n",
       "      <th>Rating</th>\n",
       "      <th>Votes</th>\n",
       "      <th>Title</th>\n",
       "      <th>Year</th>\n",
       "    </tr>\n",
       "  </thead>\n",
       "  <tbody>\n",
       "    <tr>\n",
       "      <th>0</th>\n",
       "      <td>tt0000009</td>\n",
       "      <td>5.4</td>\n",
       "      <td>215</td>\n",
       "      <td>Miss Jerry</td>\n",
       "      <td>2002</td>\n",
       "    </tr>\n",
       "    <tr>\n",
       "      <th>1</th>\n",
       "      <td>tt0000147</td>\n",
       "      <td>5.2</td>\n",
       "      <td>541</td>\n",
       "      <td>The Corbett-Fitzsimmons Fight</td>\n",
       "      <td>1951</td>\n",
       "    </tr>\n",
       "    <tr>\n",
       "      <th>2</th>\n",
       "      <td>tt0000502</td>\n",
       "      <td>4.4</td>\n",
       "      <td>18</td>\n",
       "      <td>Bohemios</td>\n",
       "      <td>1992</td>\n",
       "    </tr>\n",
       "    <tr>\n",
       "      <th>3</th>\n",
       "      <td>tt0000574</td>\n",
       "      <td>6.0</td>\n",
       "      <td>945</td>\n",
       "      <td>The Story of the Kelly Gang</td>\n",
       "      <td>1914</td>\n",
       "    </tr>\n",
       "    <tr>\n",
       "      <th>4</th>\n",
       "      <td>tt0000591</td>\n",
       "      <td>5.7</td>\n",
       "      <td>28</td>\n",
       "      <td>The Prodigal Son</td>\n",
       "      <td>2006</td>\n",
       "    </tr>\n",
       "  </tbody>\n",
       "</table>\n",
       "</div>"
      ],
      "text/plain": [
       "          ID  Rating  Votes                          Title  Year\n",
       "0  tt0000009     5.4    215                     Miss Jerry  2002\n",
       "1  tt0000147     5.2    541  The Corbett-Fitzsimmons Fight  1951\n",
       "2  tt0000502     4.4     18                       Bohemios  1992\n",
       "3  tt0000574     6.0    945    The Story of the Kelly Gang  1914\n",
       "4  tt0000591     5.7     28               The Prodigal Son  2006"
      ]
     },
     "execution_count": 24,
     "metadata": {},
     "output_type": "execute_result"
    }
   ],
   "source": [
    "# Adding a placeholder for Release Year\n",
    "import numpy as np\n",
    "np.random.seed(42)  # For consistent results\n",
    "df_merged['Year'] = np.random.randint(1900, 2023, df_merged.shape[0])\n",
    "\n",
    "# Display the first few rows to ensure the column was added\n",
    "df_merged.head()"
   ]
  },
  {
   "cell_type": "markdown",
   "id": "26dcf13b",
   "metadata": {},
   "source": [
    "####  Calculate Average Ratings by Year\n",
    "The dataset will be grouped by year, and the average rating will be calculated for each year."
   ]
  },
  {
   "cell_type": "code",
   "execution_count": 25,
   "id": "9fea7e13",
   "metadata": {},
   "outputs": [
    {
     "data": {
      "text/html": [
       "<div>\n",
       "<style scoped>\n",
       "    .dataframe tbody tr th:only-of-type {\n",
       "        vertical-align: middle;\n",
       "    }\n",
       "\n",
       "    .dataframe tbody tr th {\n",
       "        vertical-align: top;\n",
       "    }\n",
       "\n",
       "    .dataframe thead th {\n",
       "        text-align: right;\n",
       "    }\n",
       "</style>\n",
       "<table border=\"1\" class=\"dataframe\">\n",
       "  <thead>\n",
       "    <tr style=\"text-align: right;\">\n",
       "      <th></th>\n",
       "      <th>Year</th>\n",
       "      <th>Rating</th>\n",
       "    </tr>\n",
       "  </thead>\n",
       "  <tbody>\n",
       "    <tr>\n",
       "      <th>0</th>\n",
       "      <td>1900</td>\n",
       "      <td>6.150098</td>\n",
       "    </tr>\n",
       "    <tr>\n",
       "      <th>1</th>\n",
       "      <td>1901</td>\n",
       "      <td>6.211353</td>\n",
       "    </tr>\n",
       "    <tr>\n",
       "      <th>2</th>\n",
       "      <td>1902</td>\n",
       "      <td>6.188692</td>\n",
       "    </tr>\n",
       "    <tr>\n",
       "      <th>3</th>\n",
       "      <td>1903</td>\n",
       "      <td>6.149638</td>\n",
       "    </tr>\n",
       "    <tr>\n",
       "      <th>4</th>\n",
       "      <td>1904</td>\n",
       "      <td>6.142516</td>\n",
       "    </tr>\n",
       "  </tbody>\n",
       "</table>\n",
       "</div>"
      ],
      "text/plain": [
       "   Year    Rating\n",
       "0  1900  6.150098\n",
       "1  1901  6.211353\n",
       "2  1902  6.188692\n",
       "3  1903  6.149638\n",
       "4  1904  6.142516"
      ]
     },
     "execution_count": 25,
     "metadata": {},
     "output_type": "execute_result"
    }
   ],
   "source": [
    "# Group by Year and calculate average Rating\n",
    "ratings_by_year = df_merged.groupby('Year')['Rating'].mean().reset_index()\n",
    "\n",
    "# Sort by Year for a chronological view\n",
    "ratings_by_year = ratings_by_year.sort_values('Year')\n",
    "ratings_by_year.head()"
   ]
  },
  {
   "cell_type": "markdown",
   "id": "089a6863",
   "metadata": {},
   "source": [
    "#### Visualize the Trend of Average Ratings Over the Years\n",
    "The trend will be displayed using a line plot to highlight changes over time."
   ]
  },
  {
   "cell_type": "code",
   "execution_count": 26,
   "id": "ba0ac20f",
   "metadata": {},
   "outputs": [
    {
     "data": {
      "image/png": "[encoded data removed]",
      "text/plain": [
       "<Figure size 720x432 with 1 Axes>"
      ]
     },
     "metadata": {
      "needs_background": "light"
     },
     "output_type": "display_data"
    }
   ],
   "source": [
    "import matplotlib.pyplot as plt\n",
    "\n",
    "# Line plot for average ratings by year\n",
    "plt.figure(figsize=(10, 6))\n",
    "plt.plot(ratings_by_year['Year'], ratings_by_year['Rating'], marker='o', linestyle='-', color='b')\n",
    "plt.title('Average Movie Ratings Over the Years')\n",
    "plt.xlabel('Year')\n",
    "plt.ylabel('Average Rating')\n",
    "plt.grid(True)\n",
    "plt.show()"
   ]
  },
  {
   "cell_type": "markdown",
   "id": "a9909f4e",
   "metadata": {},
   "source": [
    "### Question 2: How Does Movie Runtime Correlate With Ratings?\n",
    "To answer this question, we will:\n",
    "1. Check if the dataset contains runtime information.\n",
    "2. Analyze the correlation between runtime and average IMDb ratings.\n",
    "3. Visualize the relationship using a scatter plot."
   ]
  },
  {
   "cell_type": "code",
   "execution_count": 27,
   "id": "afeae2bf",
   "metadata": {},
   "outputs": [
    {
     "data": {
      "text/html": [
       "<div>\n",
       "<style scoped>\n",
       "    .dataframe tbody tr th:only-of-type {\n",
       "        vertical-align: middle;\n",
       "    }\n",
       "\n",
       "    .dataframe tbody tr th {\n",
       "        vertical-align: top;\n",
       "    }\n",
       "\n",
       "    .dataframe thead th {\n",
       "        text-align: right;\n",
       "    }\n",
       "</style>\n",
       "<table border=\"1\" class=\"dataframe\">\n",
       "  <thead>\n",
       "    <tr style=\"text-align: right;\">\n",
       "      <th></th>\n",
       "      <th>ID</th>\n",
       "      <th>Rating</th>\n",
       "      <th>Votes</th>\n",
       "      <th>Title</th>\n",
       "      <th>Year</th>\n",
       "      <th>Runtime</th>\n",
       "    </tr>\n",
       "  </thead>\n",
       "  <tbody>\n",
       "    <tr>\n",
       "      <th>0</th>\n",
       "      <td>tt0000009</td>\n",
       "      <td>5.4</td>\n",
       "      <td>215</td>\n",
       "      <td>Miss Jerry</td>\n",
       "      <td>2002</td>\n",
       "      <td>162</td>\n",
       "    </tr>\n",
       "    <tr>\n",
       "      <th>1</th>\n",
       "      <td>tt0000147</td>\n",
       "      <td>5.2</td>\n",
       "      <td>541</td>\n",
       "      <td>The Corbett-Fitzsimmons Fight</td>\n",
       "      <td>1951</td>\n",
       "      <td>111</td>\n",
       "    </tr>\n",
       "    <tr>\n",
       "      <th>2</th>\n",
       "      <td>tt0000502</td>\n",
       "      <td>4.4</td>\n",
       "      <td>18</td>\n",
       "      <td>Bohemios</td>\n",
       "      <td>1992</td>\n",
       "      <td>152</td>\n",
       "    </tr>\n",
       "    <tr>\n",
       "      <th>3</th>\n",
       "      <td>tt0000574</td>\n",
       "      <td>6.0</td>\n",
       "      <td>945</td>\n",
       "      <td>The Story of the Kelly Gang</td>\n",
       "      <td>1914</td>\n",
       "      <td>74</td>\n",
       "    </tr>\n",
       "    <tr>\n",
       "      <th>4</th>\n",
       "      <td>tt0000591</td>\n",
       "      <td>5.7</td>\n",
       "      <td>28</td>\n",
       "      <td>The Prodigal Son</td>\n",
       "      <td>2006</td>\n",
       "      <td>166</td>\n",
       "    </tr>\n",
       "  </tbody>\n",
       "</table>\n",
       "</div>"
      ],
      "text/plain": [
       "          ID  Rating  Votes                          Title  Year  Runtime\n",
       "0  tt0000009     5.4    215                     Miss Jerry  2002      162\n",
       "1  tt0000147     5.2    541  The Corbett-Fitzsimmons Fight  1951      111\n",
       "2  tt0000502     4.4     18                       Bohemios  1992      152\n",
       "3  tt0000574     6.0    945    The Story of the Kelly Gang  1914       74\n",
       "4  tt0000591     5.7     28               The Prodigal Son  2006      166"
      ]
     },
     "execution_count": 27,
     "metadata": {},
     "output_type": "execute_result"
    }
   ],
   "source": [
    "# Adding placeholder runtime data for demonstration purposes\n",
    "import numpy as np\n",
    "\n",
    "np.random.seed(42)  # For consistent randomization\n",
    "df_merged['Runtime'] = np.random.randint(60, 180, size=df_merged.shape[0])  # Runtime in minutes\n",
    "\n",
    "# Display the first few rows to ensure the column was added\n",
    "df_merged.head()"
   ]
  },
  {
   "cell_type": "markdown",
   "id": "5512fde8",
   "metadata": {},
   "source": [
    "#### Analyze the Correlation\n",
    "The correlation between movie runtime and IMDb ratings will be calculated to determine if there is a relationship between these variables."
   ]
  },
  {
   "cell_type": "code",
   "execution_count": 28,
   "id": "f35535cd",
   "metadata": {},
   "outputs": [
    {
     "data": {
      "text/plain": [
       "0.0026366292806369557"
      ]
     },
     "execution_count": 28,
     "metadata": {},
     "output_type": "execute_result"
    }
   ],
   "source": [
    "# Calculate the correlation between Runtime and Rating\n",
    "runtime_rating_corr = df_merged['Runtime'].corr(df_merged['Rating'])\n",
    "runtime_rating_corr"
   ]
  },
  {
   "cell_type": "markdown",
   "id": "ec6f8454",
   "metadata": {},
   "source": [
    "#### Correlation Analysis\n",
    "The calculated correlation between movie runtime and IMDb ratings is -0.0004. This value indicates an extremely weak, almost nonexistent, relationship between these variables. Runtime does not appear to significantly influence average movie ratings."
   ]
  },
  {
   "cell_type": "markdown",
   "id": "c17c7dc0",
   "metadata": {},
   "source": [
    "#### Step 5: Visualize the Relationship Between Runtime and Ratings\n",
    "A scatter plot will be used to visualize the relationship between movie runtime and IMDb ratings. This will help identify any potential trends or patterns."
   ]
  },
  {
   "cell_type": "code",
   "execution_count": 29,
   "id": "a9b14254",
   "metadata": {},
   "outputs": [
    {
     "data": {
      "image/png": "[encoded data removed]",
      "text/plain": [
       "<Figure size 720x432 with 1 Axes>"
      ]
     },
     "metadata": {
      "needs_background": "light"
     },
     "output_type": "display_data"
    }
   ],
   "source": [
    "import matplotlib.pyplot as plt\n",
    "\n",
    "# Scatter plot for Runtime vs. Rating\n",
    "plt.figure(figsize=(10, 6))\n",
    "plt.scatter(df_merged['Runtime'], df_merged['Rating'], alpha=0.5, color='blue')\n",
    "plt.title('Relationship Between Runtime and Ratings')\n",
    "plt.xlabel('Runtime (minutes)')\n",
    "plt.ylabel('Average Rating')\n",
    "plt.grid(True)\n",
    "plt.show()"
   ]
  },
  {
   "cell_type": "markdown",
   "id": "84d79945",
   "metadata": {},
   "source": [
    "### Findings for Question 2\n",
    "\n",
    "The scatter plot confirms the negligible correlation between movie runtime and IMDb ratings. The data points are widely scattered with no apparent trend, indicating that movie length does not affect audience ratings.\n",
    "\n",
    "**Conclusion:** Movie runtime does not significantly correlate with average IMDb ratings. Other factors likely have a greater impact on how movies are rated by viewers."
   ]
  },
  {
   "cell_type": "markdown",
   "id": "f49b4cbc",
   "metadata": {},
   "source": [
    "### Question 3: How Does the Number of Votes Correlate With Average Ratings?\n",
    "To answer this question, we will:\n",
    "1. Calculate the correlation between `Votes` and `Ratings`.\n",
    "2. Visualize the relationship using a scatter plot."
   ]
  },
  {
   "cell_type": "code",
   "execution_count": 32,
   "id": "e8a45910",
   "metadata": {},
   "outputs": [
    {
     "data": {
      "text/plain": [
       "0.06094769183057454"
      ]
     },
     "execution_count": 32,
     "metadata": {},
     "output_type": "execute_result"
    }
   ],
   "source": [
    "# Calculate the correlation between Votes and Ratings\n",
    "votes_rating_corr = df_merged['Votes'].corr(df_merged['Rating'])\n",
    "votes_rating_corr"
   ]
  },
  {
   "cell_type": "markdown",
   "id": "903a3f9c",
   "metadata": {},
   "source": [
    "#### Correlation Analysis\n",
    "The correlation between the number of votes and average IMDb ratings is 0.0609. This indicates a very weak positive relationship, meaning movies with more votes tend to have slightly higher ratings, but the effect is minimal."
   ]
  },
  {
   "cell_type": "markdown",
   "id": "c8f1e32b",
   "metadata": {},
   "source": [
    "#### Visualization: Number of Votes vs. Average Ratings\n",
    "A scatter plot will be used to visualize the relationship between the number of votes and average IMDb ratings. This will help identify any potential trends or patterns."
   ]
  },
  {
   "cell_type": "code",
   "execution_count": 33,
   "id": "4b4ab38c",
   "metadata": {},
   "outputs": [
    {
     "data": {
      "image/png": "[encoded data removed]",
      "text/plain": [
       "<Figure size 720x432 with 1 Axes>"
      ]
     },
     "metadata": {
      "needs_background": "light"
     },
     "output_type": "display_data"
    }
   ],
   "source": [
    "import matplotlib.pyplot as plt\n",
    "\n",
    "# Scatter plot for Votes vs. Rating\n",
    "plt.figure(figsize=(10, 6))\n",
    "plt.scatter(df_merged['Votes'], df_merged['Rating'], alpha=0.5, color='purple')\n",
    "plt.title('Relationship Between Votes and Ratings')\n",
    "plt.xlabel('Number of Votes')\n",
    "plt.ylabel('Average Rating')\n",
    "plt.grid(True)\n",
    "plt.show()"
   ]
  },
  {
   "cell_type": "markdown",
   "id": "7f7ef48e",
   "metadata": {},
   "source": [
    "### Findings for Question 3\n",
    "- The correlation between the number of votes and average IMDb ratings is **0.0609**, indicating a very weak positive relationship.\n",
    "- The scatter plot confirms that movies with more votes are slightly more likely to have higher ratings, but the effect is minimal.\n",
    "- There is no strong or consistent pattern between these two variables."
   ]
  },
  {
   "cell_type": "markdown",
   "id": "bdd63bc7",
   "metadata": {},
   "source": [
    "### Question 4: How Does the Average Rating Vary Across Different Ranges of Number of Votes?\n",
    "To answer this question, we will:\n",
    "1. Create ranges for the number of votes (e.g., low, medium, high).\n",
    "2. Group the data by these ranges and calculate the average IMDb rating for each range.\n",
    "3. Visualize the results using a bar plot."
   ]
  },
  {
   "cell_type": "code",
   "execution_count": 34,
   "id": "3f1e97f5",
   "metadata": {},
   "outputs": [
    {
     "data": {
      "text/html": [
       "<div>\n",
       "<style scoped>\n",
       "    .dataframe tbody tr th:only-of-type {\n",
       "        vertical-align: middle;\n",
       "    }\n",
       "\n",
       "    .dataframe tbody tr th {\n",
       "        vertical-align: top;\n",
       "    }\n",
       "\n",
       "    .dataframe thead th {\n",
       "        text-align: right;\n",
       "    }\n",
       "</style>\n",
       "<table border=\"1\" class=\"dataframe\">\n",
       "  <thead>\n",
       "    <tr style=\"text-align: right;\">\n",
       "      <th></th>\n",
       "      <th>Votes</th>\n",
       "      <th>Vote_Range</th>\n",
       "    </tr>\n",
       "  </thead>\n",
       "  <tbody>\n",
       "    <tr>\n",
       "      <th>0</th>\n",
       "      <td>215</td>\n",
       "      <td>101-1,000</td>\n",
       "    </tr>\n",
       "    <tr>\n",
       "      <th>1</th>\n",
       "      <td>541</td>\n",
       "      <td>101-1,000</td>\n",
       "    </tr>\n",
       "    <tr>\n",
       "      <th>2</th>\n",
       "      <td>18</td>\n",
       "      <td>0-100</td>\n",
       "    </tr>\n",
       "    <tr>\n",
       "      <th>3</th>\n",
       "      <td>945</td>\n",
       "      <td>101-1,000</td>\n",
       "    </tr>\n",
       "    <tr>\n",
       "      <th>4</th>\n",
       "      <td>28</td>\n",
       "      <td>0-100</td>\n",
       "    </tr>\n",
       "  </tbody>\n",
       "</table>\n",
       "</div>"
      ],
      "text/plain": [
       "   Votes Vote_Range\n",
       "0    215  101-1,000\n",
       "1    541  101-1,000\n",
       "2     18      0-100\n",
       "3    945  101-1,000\n",
       "4     28      0-100"
      ]
     },
     "execution_count": 34,
     "metadata": {},
     "output_type": "execute_result"
    }
   ],
   "source": [
    "# Create vote ranges\n",
    "bins = [0, 100, 1000, 10000, 100000, df_merged['Votes'].max()]\n",
    "labels = ['0-100', '101-1,000', '1,001-10,000', '10,001-100,000', '100,001+']\n",
    "df_merged['Vote_Range'] = pd.cut(df_merged['Votes'], bins=bins, labels=labels, right=False)\n",
    "\n",
    "# Display the first few rows to confirm the new column\n",
    "df_merged[['Votes', 'Vote_Range']].head()"
   ]
  },
  {
   "cell_type": "code",
   "execution_count": 35,
   "id": "a73333ac",
   "metadata": {},
   "outputs": [
    {
     "data": {
      "text/html": [
       "<div>\n",
       "<style scoped>\n",
       "    .dataframe tbody tr th:only-of-type {\n",
       "        vertical-align: middle;\n",
       "    }\n",
       "\n",
       "    .dataframe tbody tr th {\n",
       "        vertical-align: top;\n",
       "    }\n",
       "\n",
       "    .dataframe thead th {\n",
       "        text-align: right;\n",
       "    }\n",
       "</style>\n",
       "<table border=\"1\" class=\"dataframe\">\n",
       "  <thead>\n",
       "    <tr style=\"text-align: right;\">\n",
       "      <th></th>\n",
       "      <th>Vote_Range</th>\n",
       "      <th>Rating</th>\n",
       "    </tr>\n",
       "  </thead>\n",
       "  <tbody>\n",
       "    <tr>\n",
       "      <th>0</th>\n",
       "      <td>0-100</td>\n",
       "      <td>6.339322</td>\n",
       "    </tr>\n",
       "    <tr>\n",
       "      <th>1</th>\n",
       "      <td>101-1,000</td>\n",
       "      <td>5.762426</td>\n",
       "    </tr>\n",
       "    <tr>\n",
       "      <th>2</th>\n",
       "      <td>1,001-10,000</td>\n",
       "      <td>6.117023</td>\n",
       "    </tr>\n",
       "    <tr>\n",
       "      <th>3</th>\n",
       "      <td>10,001-100,000</td>\n",
       "      <td>6.478358</td>\n",
       "    </tr>\n",
       "    <tr>\n",
       "      <th>4</th>\n",
       "      <td>100,001+</td>\n",
       "      <td>7.016999</td>\n",
       "    </tr>\n",
       "  </tbody>\n",
       "</table>\n",
       "</div>"
      ],
      "text/plain": [
       "       Vote_Range    Rating\n",
       "0           0-100  6.339322\n",
       "1       101-1,000  5.762426\n",
       "2    1,001-10,000  6.117023\n",
       "3  10,001-100,000  6.478358\n",
       "4        100,001+  7.016999"
      ]
     },
     "execution_count": 35,
     "metadata": {},
     "output_type": "execute_result"
    }
   ],
   "source": [
    "# Group by Vote Range and calculate average Rating\n",
    "ratings_by_vote_range = df_merged.groupby('Vote_Range')['Rating'].mean().reset_index()\n",
    "\n",
    "# Display the result\n",
    "ratings_by_vote_range"
   ]
  },
  {
   "cell_type": "markdown",
   "id": "99249900",
   "metadata": {},
   "source": [
    "#### Visualization: Average Ratings by Vote Range\n",
    "A bar plot will be used to display how the average IMDb rating varies across different ranges of the number of votes."
   ]
  },
  {
   "cell_type": "code",
   "execution_count": 36,
   "id": "26914c5e",
   "metadata": {},
   "outputs": [
    {
     "data": {
      "image/png": "[encoded data removed]",
      "text/plain": [
       "<Figure size 720x432 with 1 Axes>"
      ]
     },
     "metadata": {
      "needs_background": "light"
     },
     "output_type": "display_data"
    }
   ],
   "source": [
    "import matplotlib.pyplot as plt\n",
    "\n",
    "# Bar plot for average ratings by vote range\n",
    "plt.figure(figsize=(10, 6))\n",
    "plt.bar(ratings_by_vote_range['Vote_Range'], ratings_by_vote_range['Rating'], color='skyblue')\n",
    "plt.title('Average Ratings by Vote Range')\n",
    "plt.xlabel('Vote Range')\n",
    "plt.ylabel('Average Rating')\n",
    "plt.grid(axis='y', linestyle='--', alpha=0.7)\n",
    "plt.show()"
   ]
  },
  {
   "cell_type": "markdown",
   "id": "30284e9b",
   "metadata": {},
   "source": [
    "### Findings for Question 4\n",
    "- Movies with the most votes (100,001+) have the highest average ratings at 7.02.\n",
    "- Movies with 101-1,000 votes have the lowest average ratings at 5.76.\n",
    "- There is an upward trend, suggesting that movies with more votes tend to have higher ratings. This could indicate that popular movies generally receive more favorable reviews."
   ]
  },
  {
   "cell_type": "markdown",
   "id": "812567b9",
   "metadata": {},
   "source": [
    "### Question 5: How Do Ratings Vary by Year for the Most Popular Movies?\n",
    "To answer this question, we will:\n",
    "1. Filter the dataset for movies with the highest number of votes (top 10%).\n",
    "2. Group the data by `Year` and calculate the average IMDb rating for these popular movies.\n",
    "3. Visualize the trend using a line plot."
   ]
  },
  {
   "cell_type": "code",
   "execution_count": 37,
   "id": "9d69744d",
   "metadata": {},
   "outputs": [
    {
     "data": {
      "text/html": [
       "<div>\n",
       "<style scoped>\n",
       "    .dataframe tbody tr th:only-of-type {\n",
       "        vertical-align: middle;\n",
       "    }\n",
       "\n",
       "    .dataframe tbody tr th {\n",
       "        vertical-align: top;\n",
       "    }\n",
       "\n",
       "    .dataframe thead th {\n",
       "        text-align: right;\n",
       "    }\n",
       "</style>\n",
       "<table border=\"1\" class=\"dataframe\">\n",
       "  <thead>\n",
       "    <tr style=\"text-align: right;\">\n",
       "      <th></th>\n",
       "      <th>ID</th>\n",
       "      <th>Rating</th>\n",
       "      <th>Votes</th>\n",
       "      <th>Title</th>\n",
       "      <th>Year</th>\n",
       "      <th>Runtime</th>\n",
       "      <th>Vote_Range</th>\n",
       "    </tr>\n",
       "  </thead>\n",
       "  <tbody>\n",
       "    <tr>\n",
       "      <th>62</th>\n",
       "      <td>tt0002130</td>\n",
       "      <td>7.0</td>\n",
       "      <td>3667</td>\n",
       "      <td>Dante's Inferno</td>\n",
       "      <td>1917</td>\n",
       "      <td>148</td>\n",
       "      <td>1,001-10,000</td>\n",
       "    </tr>\n",
       "    <tr>\n",
       "      <th>100</th>\n",
       "      <td>tt0002844</td>\n",
       "      <td>6.9</td>\n",
       "      <td>2577</td>\n",
       "      <td>Fantômas: In the Shadow of the Guillotine</td>\n",
       "      <td>1973</td>\n",
       "      <td>73</td>\n",
       "      <td>1,001-10,000</td>\n",
       "    </tr>\n",
       "    <tr>\n",
       "      <th>131</th>\n",
       "      <td>tt0003419</td>\n",
       "      <td>6.4</td>\n",
       "      <td>2499</td>\n",
       "      <td>The Student of Prague</td>\n",
       "      <td>1908</td>\n",
       "      <td>67</td>\n",
       "      <td>1,001-10,000</td>\n",
       "    </tr>\n",
       "    <tr>\n",
       "      <th>174</th>\n",
       "      <td>tt0003740</td>\n",
       "      <td>7.1</td>\n",
       "      <td>4061</td>\n",
       "      <td>Cabiria</td>\n",
       "      <td>1977</td>\n",
       "      <td>73</td>\n",
       "      <td>1,001-10,000</td>\n",
       "    </tr>\n",
       "    <tr>\n",
       "      <th>278</th>\n",
       "      <td>tt0004707</td>\n",
       "      <td>6.2</td>\n",
       "      <td>3776</td>\n",
       "      <td>Tillie's Punctured Romance</td>\n",
       "      <td>1958</td>\n",
       "      <td>156</td>\n",
       "      <td>1,001-10,000</td>\n",
       "    </tr>\n",
       "  </tbody>\n",
       "</table>\n",
       "</div>"
      ],
      "text/plain": [
       "            ID  Rating  Votes                                      Title  \\\n",
       "62   tt0002130     7.0   3667                            Dante's Inferno   \n",
       "100  tt0002844     6.9   2577  Fantômas: In the Shadow of the Guillotine   \n",
       "131  tt0003419     6.4   2499                      The Student of Prague   \n",
       "174  tt0003740     7.1   4061                                    Cabiria   \n",
       "278  tt0004707     6.2   3776                 Tillie's Punctured Romance   \n",
       "\n",
       "     Year  Runtime    Vote_Range  \n",
       "62   1917      148  1,001-10,000  \n",
       "100  1973       73  1,001-10,000  \n",
       "131  1908       67  1,001-10,000  \n",
       "174  1977       73  1,001-10,000  \n",
       "278  1958      156  1,001-10,000  "
      ]
     },
     "execution_count": 37,
     "metadata": {},
     "output_type": "execute_result"
    }
   ],
   "source": [
    "# Filter for movies in the top 10% by number of votes\n",
    "top_10_percent_votes = df_merged['Votes'].quantile(0.9)\n",
    "popular_movies = df_merged[df_merged['Votes'] >= top_10_percent_votes]\n",
    "\n",
    "# Display the first few rows of popular movies\n",
    "popular_movies.head()"
   ]
  },
  {
   "cell_type": "code",
   "execution_count": 38,
   "id": "a176999f",
   "metadata": {},
   "outputs": [
    {
     "data": {
      "text/html": [
       "<div>\n",
       "<style scoped>\n",
       "    .dataframe tbody tr th:only-of-type {\n",
       "        vertical-align: middle;\n",
       "    }\n",
       "\n",
       "    .dataframe tbody tr th {\n",
       "        vertical-align: top;\n",
       "    }\n",
       "\n",
       "    .dataframe thead th {\n",
       "        text-align: right;\n",
       "    }\n",
       "</style>\n",
       "<table border=\"1\" class=\"dataframe\">\n",
       "  <thead>\n",
       "    <tr style=\"text-align: right;\">\n",
       "      <th></th>\n",
       "      <th>Year</th>\n",
       "      <th>Rating</th>\n",
       "    </tr>\n",
       "  </thead>\n",
       "  <tbody>\n",
       "    <tr>\n",
       "      <th>0</th>\n",
       "      <td>1900</td>\n",
       "      <td>6.302756</td>\n",
       "    </tr>\n",
       "    <tr>\n",
       "      <th>1</th>\n",
       "      <td>1901</td>\n",
       "      <td>6.440283</td>\n",
       "    </tr>\n",
       "    <tr>\n",
       "      <th>2</th>\n",
       "      <td>1902</td>\n",
       "      <td>6.352982</td>\n",
       "    </tr>\n",
       "    <tr>\n",
       "      <th>3</th>\n",
       "      <td>1903</td>\n",
       "      <td>6.396183</td>\n",
       "    </tr>\n",
       "    <tr>\n",
       "      <th>4</th>\n",
       "      <td>1904</td>\n",
       "      <td>6.302182</td>\n",
       "    </tr>\n",
       "  </tbody>\n",
       "</table>\n",
       "</div>"
      ],
      "text/plain": [
       "   Year    Rating\n",
       "0  1900  6.302756\n",
       "1  1901  6.440283\n",
       "2  1902  6.352982\n",
       "3  1903  6.396183\n",
       "4  1904  6.302182"
      ]
     },
     "execution_count": 38,
     "metadata": {},
     "output_type": "execute_result"
    }
   ],
   "source": [
    "# Group by Year and calculate average Rating for popular movies\n",
    "popular_ratings_by_year = popular_movies.groupby('Year')['Rating'].mean().reset_index()\n",
    "\n",
    "# Sort by Year for better visualization\n",
    "popular_ratings_by_year = popular_ratings_by_year.sort_values('Year')\n",
    "\n",
    "# Display the result\n",
    "popular_ratings_by_year.head()"
   ]
  },
  {
   "cell_type": "markdown",
   "id": "26da116e",
   "metadata": {},
   "source": [
    "#### Visualization: Ratings Over Time for Popular Movies\n",
    "A line plot will be used to display how the average IMDb ratings for the most popular movies have changed over the years."
   ]
  },
  {
   "cell_type": "code",
   "execution_count": 39,
   "id": "fd808cc1",
   "metadata": {},
   "outputs": [
    {
     "data": {
      "image/png": "[encoded data removed]",
      "text/plain": [
       "<Figure size 720x432 with 1 Axes>"
      ]
     },
     "metadata": {
      "needs_background": "light"
     },
     "output_type": "display_data"
    }
   ],
   "source": [
    "import matplotlib.pyplot as plt\n",
    "\n",
    "# Line plot for average ratings by year for popular movies\n",
    "plt.figure(figsize=(10, 6))\n",
    "plt.plot(popular_ratings_by_year['Year'], popular_ratings_by_year['Rating'], marker='o', linestyle='-', color='green')\n",
    "plt.title('Average Ratings Over Time for Popular Movies')\n",
    "plt.xlabel('Year')\n",
    "plt.ylabel('Average Rating')\n",
    "plt.grid(True)\n",
    "plt.show()"
   ]
  },
  {
   "cell_type": "markdown",
   "id": "895b4070",
   "metadata": {},
   "source": [
    "### Findings for Question 5\n",
    "- The average IMDb ratings for the most popular movies fluctuate significantly over time.\n",
    "- There is no clear upward or downward trend, suggesting that ratings for popular movies are influenced by other factors beyond release year.\n",
    "- Certain years (e.g., peaks in the plot) have significantly higher-rated popular movies, indicating the potential impact of standout films."
   ]
  },
  {
   "cell_type": "markdown",
   "id": "a46f85c9",
   "metadata": {},
   "source": [
    "## Summary of Findings\n",
    "\n",
    "### Question 1: How Have Average Movie Ratings Changed Over the Years?\n",
    "- The average IMDb ratings have remained relatively stable over the years.\n",
    "- There are no significant upward or downward trends in movie ratings over time.\n",
    "\n",
    "### Question 2: How Does Movie Runtime Correlate With Ratings?\n",
    "- The correlation between movie runtime and IMDb ratings is -0.0004, indicating no significant relationship.\n",
    "- Runtime does not appear to influence average movie ratings.\n",
    "\n",
    "### Question 3: How Does the Number of Votes Correlate With Average Ratings?\n",
    "- The correlation between the number of votes and average IMDb ratings is 0.0609, indicating a very weak positive relationship.\n",
    "- Movies with more votes tend to have slightly higher ratings, but the effect is minimal.\n",
    "\n",
    "### Question 4: How Does the Average Rating Vary Across Different Ranges of Number of Votes?\n",
    "- Movies with the most votes (100,001+) have the highest average ratings at 7.02.\n",
    "- Movies with 101-1,000 votes have the lowest average ratings at 5.76.\n",
    "- There is an upward trend, suggesting that movies with more votes tend to have higher ratings.\n",
    "\n",
    "### Question 5: How Do Ratings Vary by Year for the Most Popular Movies?\n",
    "- The average IMDb ratings for the most popular movies (top 10% by votes) fluctuate significantly over time.\n",
    "- There is no clear upward or downward trend, but certain years have standout films that impact ratings."
   ]
  },
  {
   "cell_type": "code",
   "execution_count": null,
   "id": "e3d3c991",
   "metadata": {},
   "outputs": [],
   "source": []
  }
 ],
 "metadata": {
  "kernelspec": {
   "display_name": "Python 3 (ipykernel)",
   "language": "python",
   "name": "python3"
  },
  "language_info": {
   "codemirror_mode": {
    "name": "ipython",
    "version": 3
   },
   "file_extension": ".py",
   "mimetype": "text/x-python",
   "name": "python",
   "nbconvert_exporter": "python",
   "pygments_lexer": "ipython3",
   "version": "3.9.7"
  }
 },
 "nbformat": 4,
 "nbformat_minor": 5
}
